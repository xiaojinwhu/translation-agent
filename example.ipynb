{
 "cells": [
  {
   "cell_type": "code",
   "execution_count": 1,
   "metadata": {},
   "outputs": [
    {
     "name": "stderr",
     "output_type": "stream",
     "text": [
      "ic| num_tokens_in_text: 6\n",
      "ic| 'Translating text as single chunk'\n"
     ]
    }
   ],
   "source": [
    "import translation_agent as ta\n",
    "source_lang, target_lang, country = \"English\", \"Chinese\", \"China\""
   ]
  },
  {
   "cell_type": "code",
   "execution_count": 3,
   "metadata": {},
   "outputs": [],
   "source": [
    "source_text = \"\"\"\n",
    "Translation Agent is released under the MIT License. You are free to use, modify, and distribute the code for both commercial and non-commercial purposes.\n",
    "\"\"\""
   ]
  },
  {
   "cell_type": "code",
   "execution_count": null,
   "metadata": {},
   "outputs": [],
   "source": [
    "translation = ta.translate(source_lang, target_lang, source_text, country)\n"
   ]
  },
  {
   "cell_type": "code",
   "execution_count": 2,
   "metadata": {},
   "outputs": [
    {
     "data": {
      "text/plain": [
       "'好的，我会根据专家的建议来编辑翻译。\\n\\n原始文本：\\n你好，我很好，谢谢你问。\\n\\n专家建议：\\n1. 可以省略“谢谢你问”，因为这在墨西哥语中更加正式，不常用于非正式对话。\\n2. “我很好”可以简化为“我很好”，以使口语中的对话更加自然流畅。\\n3. 可以在结尾加上“你呢”，以使回答更加对话化，模仿墨西哥汉语的轻松语气。\\n4. 问候“你好”可以省略，以使对话更加自然和对话化，因为问题已经暗示了问候。\\n5. 确保翻译反映了墨西哥汉语的非正式语气，使用更多口语化的表达。例如，“你呢”可以直接询问对方的状况。\\n6. 翻译应更符合墨西哥汉语的语境，通常包括俚语和口语，这些在标准汉语中并不常见。\\n7. 翻译中的标点可以调整，以符合墨西哥汉语的非正式语气，例如使用逗号以更自然的方式分隔从句。\\n8. 可以在结尾添加笑脸或其他表情符号，以传达友好和随意性，这在墨西哥汉语的交流中很常见。\\n9. 翻译应考虑到墨西哥汉语的文化背景，确保语言和表达方式在社区中合适且广泛理解。\\n10. “很好”可以用“好”代替，以使回答更加简洁和口语化，因为“很好”在非正式对话中稍微正式一些。\\n11. 确保翻译尊重原意的意图，不引入不必要的或尴尬的措辞，这些措辞在墨西哥汉语中可能并不常用。\\n12. 翻译应尽可能简洁，同时传达相同的意思，因为这是墨西哥对话中典型的做法。\\n13. 可以省略“谢谢你问”，以使对话更加自然和对话化，因为问题已经暗示了问候和询问。\\n14. 翻译应反映墨西哥的对话速度和简洁性，避免使用过于冗长或正式的表达。\\n15. 考虑对话的语气和情绪，调整翻译，确保回答符合上下文，保持友好和放松的氛围。\\n\\n根据这些建议，新的翻译如下：\\n你好，我很好，你呢？\\n\\n请注意，这个翻译是根据专家建议进行调整后的结果，旨在使对话更加自然和符合墨西哥汉语的语境。'"
      ]
     },
     "execution_count": 2,
     "metadata": {},
     "output_type": "execute_result"
    }
   ],
   "source": [
    "translation"
   ]
  },
  {
   "cell_type": "code",
   "execution_count": null,
   "metadata": {},
   "outputs": [],
   "source": []
  }
 ],
 "metadata": {
  "kernelspec": {
   "display_name": ".venv",
   "language": "python",
   "name": "python3"
  },
  "language_info": {
   "codemirror_mode": {
    "name": "ipython",
    "version": 3
   },
   "file_extension": ".py",
   "mimetype": "text/x-python",
   "name": "python",
   "nbconvert_exporter": "python",
   "pygments_lexer": "ipython3",
   "version": "3.10.12"
  }
 },
 "nbformat": 4,
 "nbformat_minor": 2
}
